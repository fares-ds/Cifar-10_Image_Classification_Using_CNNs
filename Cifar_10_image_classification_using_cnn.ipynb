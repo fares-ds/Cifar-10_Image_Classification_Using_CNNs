{
 "cells": [
  {
   "cell_type": "code",
   "execution_count": 1,
   "metadata": {},
   "outputs": [],
   "source": [
    "from tensorflow.keras.datasets import cifar10"
   ]
  },
  {
   "cell_type": "code",
   "execution_count": 3,
   "metadata": {},
   "outputs": [],
   "source": [
    "(X_train, y_train), (X_test, y_test) = cifar10.load_data()"
   ]
  },
  {
   "cell_type": "code",
   "execution_count": 6,
   "metadata": {},
   "outputs": [
    {
     "data": {
      "text/plain": [
       "(50000, 32, 32, 3)"
      ]
     },
     "execution_count": 6,
     "metadata": {},
     "output_type": "execute_result"
    }
   ],
   "source": [
    "X_train.shape"
   ]
  },
  {
   "cell_type": "code",
   "execution_count": 7,
   "metadata": {},
   "outputs": [],
   "source": [
    "from pathlib import Path"
   ]
  },
  {
   "cell_type": "code",
   "execution_count": 18,
   "metadata": {},
   "outputs": [],
   "source": [
    "p = Path('..')"
   ]
  },
  {
   "cell_type": "code",
   "execution_count": 19,
   "metadata": {},
   "outputs": [
    {
     "data": {
      "text/plain": [
       "[WindowsPath('../.git'),\n",
       " WindowsPath('../.gitignore'),\n",
       " WindowsPath('../.ipynb_checkpoints'),\n",
       " WindowsPath('../automobile_consulting_company_predicting_cars_prices'),\n",
       " WindowsPath('../beginner_python_projects'),\n",
       " WindowsPath('../Business Case Study - Absenteeism'),\n",
       " WindowsPath('../Business Case Study - AudioBook App'),\n",
       " WindowsPath('../cell_images'),\n",
       " WindowsPath('../cifar-10'),\n",
       " WindowsPath('../Credit Card Fraud Detection'),\n",
       " WindowsPath('../Data_Science_BEST_practices'),\n",
       " WindowsPath('../Directing Customers to Subscription Through App Behavior Analysis'),\n",
       " WindowsPath('../Disaster_Or_Not_Kaggle_Competition'),\n",
       " WindowsPath('../Fashion_class_classification'),\n",
       " WindowsPath('../House_price_prediction_Kaggle_competition'),\n",
       " WindowsPath('../IBM_HR_Analytics_Employee_And_Performance'),\n",
       " WindowsPath('../loan_analysis_problem_statement'),\n",
       " WindowsPath('../Machine_Learning_Algorithms_Tutorials'),\n",
       " WindowsPath('../Machine_learning_with_text'),\n",
       " WindowsPath('../Minimizing Churn Rate Through Analysis of Financial Habits'),\n",
       " WindowsPath('../MNIST Handwritten Digits Recognition'),\n",
       " WindowsPath('../Predicting the Likelihood of E-Signing a Loan Based on Financial History'),\n",
       " WindowsPath('../predicting_heart_disease_using_machine_learning'),\n",
       " WindowsPath('../Predicting_the_sales_price_of_Bulldozers'),\n",
       " WindowsPath('../Real_or_Not_NLP_with_Disaster_Tweets'),\n",
       " WindowsPath('../Stock_Market_Analysis'),\n",
       " WindowsPath('../Telecom_Customer_Churn_Prediction'),\n",
       " WindowsPath('../TensorFlow'),\n",
       " WindowsPath('../Time_Series_Analysis_With_Python'),\n",
       " WindowsPath('../time_serie_analysis'),\n",
       " WindowsPath('../University_of_Liverpool_Ion Switching')]"
      ]
     },
     "execution_count": 19,
     "metadata": {},
     "output_type": "execute_result"
    }
   ],
   "source": [
    "list(p.iterdir())"
   ]
  },
  {
   "cell_type": "code",
   "execution_count": 20,
   "metadata": {},
   "outputs": [
    {
     "data": {
      "text/plain": [
       "[WindowsPath('../.git'),\n",
       " WindowsPath('../.ipynb_checkpoints'),\n",
       " WindowsPath('../automobile_consulting_company_predicting_cars_prices'),\n",
       " WindowsPath('../beginner_python_projects'),\n",
       " WindowsPath('../Business Case Study - Absenteeism'),\n",
       " WindowsPath('../Business Case Study - AudioBook App'),\n",
       " WindowsPath('../cell_images'),\n",
       " WindowsPath('../cifar-10'),\n",
       " WindowsPath('../Credit Card Fraud Detection'),\n",
       " WindowsPath('../Data_Science_BEST_practices'),\n",
       " WindowsPath('../Directing Customers to Subscription Through App Behavior Analysis'),\n",
       " WindowsPath('../Disaster_Or_Not_Kaggle_Competition'),\n",
       " WindowsPath('../Fashion_class_classification'),\n",
       " WindowsPath('../House_price_prediction_Kaggle_competition'),\n",
       " WindowsPath('../IBM_HR_Analytics_Employee_And_Performance'),\n",
       " WindowsPath('../loan_analysis_problem_statement'),\n",
       " WindowsPath('../Machine_Learning_Algorithms_Tutorials'),\n",
       " WindowsPath('../Machine_learning_with_text'),\n",
       " WindowsPath('../Minimizing Churn Rate Through Analysis of Financial Habits'),\n",
       " WindowsPath('../MNIST Handwritten Digits Recognition'),\n",
       " WindowsPath('../Predicting the Likelihood of E-Signing a Loan Based on Financial History'),\n",
       " WindowsPath('../predicting_heart_disease_using_machine_learning'),\n",
       " WindowsPath('../Predicting_the_sales_price_of_Bulldozers'),\n",
       " WindowsPath('../Real_or_Not_NLP_with_Disaster_Tweets'),\n",
       " WindowsPath('../Stock_Market_Analysis'),\n",
       " WindowsPath('../Telecom_Customer_Churn_Prediction'),\n",
       " WindowsPath('../TensorFlow'),\n",
       " WindowsPath('../Time_Series_Analysis_With_Python'),\n",
       " WindowsPath('../time_serie_analysis'),\n",
       " WindowsPath('../University_of_Liverpool_Ion Switching')]"
      ]
     },
     "execution_count": 20,
     "metadata": {},
     "output_type": "execute_result"
    }
   ],
   "source": [
    "[x for x in p.iterdir() if x.is_dir()]"
   ]
  },
  {
   "cell_type": "code",
   "execution_count": 21,
   "metadata": {},
   "outputs": [
    {
     "data": {
      "text/plain": [
       "WindowsPath('C:/Users/fares/OneDrive/Bureau/DS_GitHub_Projects/cifar-10/..')"
      ]
     },
     "execution_count": 21,
     "metadata": {},
     "output_type": "execute_result"
    }
   ],
   "source": [
    "p.absolute()"
   ]
  },
  {
   "cell_type": "code",
   "execution_count": 26,
   "metadata": {},
   "outputs": [
    {
     "data": {
      "text/plain": [
       "[WindowsPath('../.git'),\n",
       " WindowsPath('../.gitignore'),\n",
       " WindowsPath('../.ipynb_checkpoints'),\n",
       " WindowsPath('../automobile_consulting_company_predicting_cars_prices'),\n",
       " WindowsPath('../beginner_python_projects'),\n",
       " WindowsPath('../Business Case Study - Absenteeism'),\n",
       " WindowsPath('../Business Case Study - AudioBook App'),\n",
       " WindowsPath('../cell_images'),\n",
       " WindowsPath('../cifar-10'),\n",
       " WindowsPath('../Credit Card Fraud Detection'),\n",
       " WindowsPath('../Data_Science_BEST_practices'),\n",
       " WindowsPath('../Directing Customers to Subscription Through App Behavior Analysis'),\n",
       " WindowsPath('../Disaster_Or_Not_Kaggle_Competition'),\n",
       " WindowsPath('../Fashion_class_classification'),\n",
       " WindowsPath('../House_price_prediction_Kaggle_competition'),\n",
       " WindowsPath('../IBM_HR_Analytics_Employee_And_Performance'),\n",
       " WindowsPath('../loan_analysis_problem_statement'),\n",
       " WindowsPath('../Machine_Learning_Algorithms_Tutorials'),\n",
       " WindowsPath('../Machine_learning_with_text'),\n",
       " WindowsPath('../Minimizing Churn Rate Through Analysis of Financial Habits'),\n",
       " WindowsPath('../MNIST Handwritten Digits Recognition'),\n",
       " WindowsPath('../Predicting the Likelihood of E-Signing a Loan Based on Financial History'),\n",
       " WindowsPath('../predicting_heart_disease_using_machine_learning'),\n",
       " WindowsPath('../Predicting_the_sales_price_of_Bulldozers'),\n",
       " WindowsPath('../Real_or_Not_NLP_with_Disaster_Tweets'),\n",
       " WindowsPath('../Stock_Market_Analysis'),\n",
       " WindowsPath('../Telecom_Customer_Churn_Prediction'),\n",
       " WindowsPath('../TensorFlow'),\n",
       " WindowsPath('../Time_Series_Analysis_With_Python'),\n",
       " WindowsPath('../time_serie_analysis'),\n",
       " WindowsPath('../University_of_Liverpool_Ion Switching')]"
      ]
     },
     "execution_count": 26,
     "metadata": {},
     "output_type": "execute_result"
    }
   ],
   "source": [
    "list(p.glob('*'))"
   ]
  },
  {
   "cell_type": "code",
   "execution_count": null,
   "metadata": {},
   "outputs": [],
   "source": []
  }
 ],
 "metadata": {
  "kernelspec": {
   "display_name": "Python 3",
   "language": "python",
   "name": "python3"
  },
  "language_info": {
   "codemirror_mode": {
    "name": "ipython",
    "version": 3
   },
   "file_extension": ".py",
   "mimetype": "text/x-python",
   "name": "python",
   "nbconvert_exporter": "python",
   "pygments_lexer": "ipython3",
   "version": "3.7.3"
  }
 },
 "nbformat": 4,
 "nbformat_minor": 4
}
